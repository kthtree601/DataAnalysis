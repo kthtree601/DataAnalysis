{
 "metadata": {
  "language_info": {
   "codemirror_mode": {
    "name": "ipython",
    "version": 3
   },
   "file_extension": ".py",
   "mimetype": "text/x-python",
   "name": "python",
   "nbconvert_exporter": "python",
   "pygments_lexer": "ipython3",
   "version": "3.8.5"
  },
  "orig_nbformat": 2,
  "kernelspec": {
   "name": "python385jvsc74a57bd022bb53b43b3afb0848b0afa27adb8f2415fb61399be88b9ea69bd0b84fe58c05",
   "display_name": "Python 3.8.5 64-bit ('base': conda)"
  }
 },
 "nbformat": 4,
 "nbformat_minor": 2,
 "cells": [
  {
   "cell_type": "code",
   "execution_count": 1,
   "metadata": {},
   "outputs": [],
   "source": [
    "# melon 주간 차트 크롤링"
   ]
  },
  {
   "cell_type": "code",
   "execution_count": 3,
   "metadata": {},
   "outputs": [],
   "source": [
    "import requests\n",
    "import pandas as pd "
   ]
  },
  {
   "cell_type": "code",
   "execution_count": 36,
   "metadata": {},
   "outputs": [],
   "source": [
    "# 사이트에서 데이터 추출안될때 크롬서 f12누른다음 console 들가서 navigator.userAgent 라고 입력하면\n",
    "# 그 아래 주황색 글씨로 나오는거 복사 한다음 여기서 아래처럼 header => 다음  그렇게 입력하면 가져올 수 있다\n",
    "\n",
    "url = 'https://www.melon.com/chart/week/index.htm'\n",
    "header = {'User-Agent':\n",
    "\"Mozilla/5.0 (Windows NT 10.0; Win64; x64) AppleWebKit/537.36 (KHTML, like Gecko) Chrome/91.0.4472.77 Safari/537.36\"}\n",
    "req = requests.get(url, headers=header)\n",
    "html = req.text\n",
    "# html"
   ]
  },
  {
   "cell_type": "code",
   "execution_count": 37,
   "metadata": {},
   "outputs": [],
   "source": [
    "url = 'https://www.hanbit.co.kr/academy/'\n",
    "req = requests.get(url)\n",
    "html = req.text\n",
    "# html"
   ]
  },
  {
   "cell_type": "code",
   "execution_count": 9,
   "metadata": {},
   "outputs": [],
   "source": [
    "from bs4 import BeautifulSoup\n",
    "soup = BeautifulSoup(html, 'html.parser')"
   ]
  },
  {
   "cell_type": "code",
   "execution_count": 38,
   "metadata": {},
   "outputs": [],
   "source": [
    "# soup"
   ]
  },
  {
   "cell_type": "code",
   "execution_count": null,
   "metadata": {},
   "outputs": [],
   "source": [
    "#frm > div > table > tbody > tr:nth-child(3) > td:nth-child(4) > div > div > div.ellipsis.rank02 > a    # copy - selector래 \n",
    "//*[@id=\"frm\"]/div/table/tbody/tr[3]/td[4]/div/div/div[2]/a   # copy - xpath래"
   ]
  },
  {
   "cell_type": "code",
   "execution_count": 11,
   "metadata": {},
   "outputs": [
    {
     "output_type": "execute_result",
     "data": {
      "text/plain": [
       "50"
      ]
     },
     "metadata": {},
     "execution_count": 11
    }
   ],
   "source": [
    "trs = soup.select('#lst50')\n",
    "len(trs)"
   ]
  },
  {
   "cell_type": "code",
   "execution_count": 39,
   "metadata": {},
   "outputs": [],
   "source": [
    "tr = trs[0]\n",
    "# tr"
   ]
  },
  {
   "cell_type": "code",
   "execution_count": 17,
   "metadata": {},
   "outputs": [
    {
     "output_type": "execute_result",
     "data": {
      "text/plain": [
       "1"
      ]
     },
     "metadata": {},
     "execution_count": 17
    }
   ],
   "source": [
    "rank = tr.select_one('.rank').get_text()\n",
    "rank = int(rank)\n",
    "rank"
   ]
  },
  {
   "cell_type": "code",
   "execution_count": 16,
   "metadata": {},
   "outputs": [
    {
     "output_type": "execute_result",
     "data": {
      "text/plain": [
       "1"
      ]
     },
     "metadata": {},
     "execution_count": 16
    }
   ],
   "source": [
    "# 순위를 찾아오는 것\n",
    "rank = tr.select_one('.rank').string\n",
    "rank = int(rank)\n",
    "rank"
   ]
  },
  {
   "cell_type": "code",
   "execution_count": 19,
   "metadata": {},
   "outputs": [
    {
     "output_type": "execute_result",
     "data": {
      "text/plain": [
       "'Butter'"
      ]
     },
     "metadata": {},
     "execution_count": 19
    }
   ],
   "source": [
    "# 곡명 \n",
    "title = tr.select_one('.ellipsis.rank01')\n",
    "title = title.find('a').get_text()\n",
    "title"
   ]
  },
  {
   "cell_type": "code",
   "execution_count": 21,
   "metadata": {},
   "outputs": [
    {
     "output_type": "execute_result",
     "data": {
      "text/plain": [
       "'방탄소년단'"
      ]
     },
     "metadata": {},
     "execution_count": 21
    }
   ],
   "source": [
    "# 가수명\n",
    "artist = tr.select_one('.ellipsis.rank02')\n",
    "artist = artist.find('a').get_text()\n",
    "artist"
   ]
  },
  {
   "cell_type": "code",
   "execution_count": 23,
   "metadata": {},
   "outputs": [
    {
     "output_type": "execute_result",
     "data": {
      "text/plain": [
       "'Butter'"
      ]
     },
     "metadata": {},
     "execution_count": 23
    }
   ],
   "source": [
    "# 앨범명\n",
    "album = tr.select_one('.ellipsis.rank03')\n",
    "album = album.find('a').get_text()\n",
    "album"
   ]
  },
  {
   "cell_type": "code",
   "execution_count": 25,
   "metadata": {},
   "outputs": [
    {
     "output_type": "execute_result",
     "data": {
      "text/plain": [
       "   순위    곡명          가수                        앨범\n",
       "0  50  2002  Anne-Marie  Speak Your Mind (Deluxe)"
      ],
      "text/html": "<div>\n<style scoped>\n    .dataframe tbody tr th:only-of-type {\n        vertical-align: middle;\n    }\n\n    .dataframe tbody tr th {\n        vertical-align: top;\n    }\n\n    .dataframe thead th {\n        text-align: right;\n    }\n</style>\n<table border=\"1\" class=\"dataframe\">\n  <thead>\n    <tr style=\"text-align: right;\">\n      <th></th>\n      <th>순위</th>\n      <th>곡명</th>\n      <th>가수</th>\n      <th>앨범</th>\n    </tr>\n  </thead>\n  <tbody>\n    <tr>\n      <th>0</th>\n      <td>50</td>\n      <td>2002</td>\n      <td>Anne-Marie</td>\n      <td>Speak Your Mind (Deluxe)</td>\n    </tr>\n  </tbody>\n</table>\n</div>"
     },
     "metadata": {},
     "execution_count": 25
    }
   ],
   "source": [
    "# 50곡에 대해서 데이터 프레임 만들기 \n",
    "rank_list, title_list, artist_list, album_list = [],[],[],[]\n",
    "for tr in trs:rank = tr.select_one('.rank').string\n",
    "rank = int(rank)\n",
    "title = tr.select_one('.ellipsis.rank01')\n",
    "title = title.find('a').get_text()\n",
    "artist = tr.select_one('.ellipsis.rank02')\n",
    "artist = artist.find('a').get_text()\n",
    "album = tr.select_one('.ellipsis.rank03')\n",
    "album = album.find('a').get_text()\n",
    "\n",
    "rank_list.append(rank)\n",
    "title_list.append(title)\n",
    "artist_list.append(artist)\n",
    "album_list.append(album)\n",
    "\n",
    "df = pd.DataFrame({\n",
    "    '순위': rank_list,\n",
    "    '곡명': title_list,\n",
    "    '가수': artist_list,\n",
    "    '앨범': album_list\n",
    "})\n",
    "df.head()"
   ]
  },
  {
   "cell_type": "code",
   "execution_count": 28,
   "metadata": {},
   "outputs": [
    {
     "output_type": "execute_result",
     "data": {
      "text/plain": [
       "'https://cdnimg.melon.co.kr/cm2/album/images/106/12/483/10612483_20210521111412_500.jpg/melon/resize/120/quality/80/optimize'"
      ]
     },
     "metadata": {},
     "execution_count": 28
    }
   ],
   "source": [
    "# 이미지 속성값 가져오기\n",
    "image =trs[0].select_one('.image_typeAll').find('img')\n",
    "image = image['src']\n",
    "image"
   ]
  },
  {
   "cell_type": "code",
   "execution_count": 29,
   "metadata": {},
   "outputs": [
    {
     "output_type": "error",
     "ename": "SyntaxError",
     "evalue": "invalid syntax (<ipython-input-29-61b7a45fdd9d>, line 11)",
     "traceback": [
      "\u001b[1;36m  File \u001b[1;32m\"<ipython-input-29-61b7a45fdd9d>\"\u001b[1;36m, line \u001b[1;32m11\u001b[0m\n\u001b[1;33m    '이미지': image_list\u001b[0m\n\u001b[1;37m    ^\u001b[0m\n\u001b[1;31mSyntaxError\u001b[0m\u001b[1;31m:\u001b[0m invalid syntax\n"
     ]
    }
   ],
   "source": [
    "rank_list, image_list\n",
    "for tr in trs : rank = select_one('ellipsis.rank01')\n",
    "title = title.find('a').get_text()\n",
    "image = image.find('src')\n",
    "\n",
    "title_list = title.append(title)\n",
    "image_list = image.append(image)\n",
    "\n",
    "df=pd.DataFrame({\n",
    "    '곡명':title_list\n",
    "    '이미지': image_list\n",
    "})\n",
    "df.head"
   ]
  },
  {
   "cell_type": "code",
   "execution_count": 30,
   "metadata": {},
   "outputs": [
    {
     "output_type": "execute_result",
     "data": {
      "text/plain": [
       "100"
      ]
     },
     "metadata": {},
     "execution_count": 30
    }
   ],
   "source": [
    "# 100곡 모두 가져오기 \n",
    "trs = soup.select('#lst50')\n",
    "trs2 = soup.select('#lst100')\n",
    "trs.extend(trs2)\n",
    "len(trs)"
   ]
  },
  {
   "cell_type": "code",
   "execution_count": 32,
   "metadata": {},
   "outputs": [
    {
     "output_type": "error",
     "ename": "SyntaxError",
     "evalue": "invalid syntax (<ipython-input-32-e063edd22a43>, line 24)",
     "traceback": [
      "\u001b[1;36m  File \u001b[1;32m\"<ipython-input-32-e063edd22a43>\"\u001b[1;36m, line \u001b[1;32m24\u001b[0m\n\u001b[1;33m    '이미지':image_list\u001b[0m\n\u001b[1;37m    ^\u001b[0m\n\u001b[1;31mSyntaxError\u001b[0m\u001b[1;31m:\u001b[0m invalid syntax\n"
     ]
    }
   ],
   "source": [
    "rank_list, title_list, artist_list, album_list, image_list = [],[],[],[],[]\n",
    "for tr in trs:rank = tr.select_one('.rank').string\n",
    "rank = int(rank)\n",
    "title = tr.select_one('.ellipsis.rank01')\n",
    "title = title.find('a').get_text()\n",
    "artist = tr.select_one('.ellipsis.rank02')\n",
    "artist = artist.find('a').get_text()\n",
    "album = tr.select_one('.ellipsis.rank03')\n",
    "album = album.find('a').get_text()\n",
    "image =tr.select_one('.image_typeAll').find('img')\n",
    "image = image['src']\n",
    "\n",
    "rank_list.append(rank)\n",
    "title_list.append(title)\n",
    "artist_list.append(artist)\n",
    "album_list.append(album)\n",
    "image_list.append(image)\n",
    "\n",
    "df = pd.DataFrame({\n",
    "    '순위': rank_list,\n",
    "    '곡명': title_list,\n",
    "    '가수': artist_list,\n",
    "    '앨범': album_list\n",
    "    '이미지':image_list\n",
    "})\n",
    "df.head()"
   ]
  },
  {
   "cell_type": "code",
   "execution_count": 33,
   "metadata": {},
   "outputs": [
    {
     "output_type": "execute_result",
     "data": {
      "text/plain": [
       "'2021.05.24 ~ 2021.05.30'"
      ]
     },
     "metadata": {},
     "execution_count": 33
    }
   ],
   "source": [
    "# 파일에 저장하기\n",
    "period = soup.select_one('.yyyymmdd').get_text().strip()\n",
    "period\n",
    "\t\t\t\t\t\t"
   ]
  },
  {
   "cell_type": "code",
   "execution_count": 35,
   "metadata": {},
   "outputs": [],
   "source": [
    "filename = f'melon({period}).csv'\n",
    "df.to_csv(filename, index=False, sep=',', encoding='utf8')"
   ]
  },
  {
   "cell_type": "code",
   "execution_count": null,
   "metadata": {},
   "outputs": [],
   "source": []
  }
 ]
}