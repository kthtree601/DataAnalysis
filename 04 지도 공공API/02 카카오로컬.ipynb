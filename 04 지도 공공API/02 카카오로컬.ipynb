{
 "metadata": {
  "language_info": {
   "codemirror_mode": {
    "name": "ipython",
    "version": 3
   },
   "file_extension": ".py",
   "mimetype": "text/x-python",
   "name": "python",
   "nbconvert_exporter": "python",
   "pygments_lexer": "ipython3",
   "version": "3.8.5"
  },
  "orig_nbformat": 2,
  "kernelspec": {
   "name": "python385jvsc74a57bd022bb53b43b3afb0848b0afa27adb8f2415fb61399be88b9ea69bd0b84fe58c05",
   "display_name": "Python 3.8.5 64-bit ('base': conda)"
  }
 },
 "nbformat": 4,
 "nbformat_minor": 2,
 "cells": [
  {
   "cell_type": "code",
   "execution_count": 27,
   "metadata": {},
   "outputs": [],
   "source": [
    "# 카카오 로컬 api 도로명주소로부터 위도 경도 정보 구하기"
   ]
  },
  {
   "cell_type": "code",
   "execution_count": 39,
   "metadata": {},
   "outputs": [],
   "source": [
    "import requests\n",
    "from urllib.parse import quote\n",
    "import pandas as pd "
   ]
  },
  {
   "cell_type": "code",
   "execution_count": 29,
   "metadata": {},
   "outputs": [],
   "source": [
    "with open ('kakaoapikey.txt', mode='r') as key_file:\n",
    "    kakao_key = key_file.read()"
   ]
  },
  {
   "cell_type": "code",
   "execution_count": 30,
   "metadata": {},
   "outputs": [
    {
     "output_type": "execute_result",
     "data": {
      "text/plain": [
       "'d837e2a5320287491d0147204e16cf9a'"
      ]
     },
     "metadata": {},
     "execution_count": 30
    }
   ],
   "source": [
    "kakao_key"
   ]
  },
  {
   "cell_type": "code",
   "execution_count": 31,
   "metadata": {},
   "outputs": [
    {
     "output_type": "execute_result",
     "data": {
      "text/plain": [
       "32"
      ]
     },
     "metadata": {},
     "execution_count": 31
    }
   ],
   "source": [
    "len(kakao_key)"
   ]
  },
  {
   "cell_type": "code",
   "execution_count": 32,
   "metadata": {},
   "outputs": [
    {
     "output_type": "execute_result",
     "data": {
      "text/plain": [
       "'https://dapi.kakao.com/v2/local/search/address.json?query=%EC%84%9C%EC%9A%B8%ED%8A%B9%EB%B3%84%EC%8B%9C%20%EC%A4%91%EA%B5%AC%20%EC%B2%AD%ED%8C%8C%EB%A1%9C%20463%20%28%EC%A4%91%EB%A6%BC%EB%8F%99%29'"
      ]
     },
     "metadata": {},
     "execution_count": 32
    }
   ],
   "source": [
    "addr = '서울특별시 중구 청파로 463 (중림동)'\n",
    "local_url = 'https://dapi.kakao.com/v2/local/search/address.json'\n",
    "url = f'{local_url}?query={quote(addr)}'\n",
    "url"
   ]
  },
  {
   "cell_type": "code",
   "execution_count": 33,
   "metadata": {},
   "outputs": [
    {
     "output_type": "execute_result",
     "data": {
      "text/plain": [
       "{'documents': [{'address': {'address_name': '서울 중구 중림동 441',\n",
       "    'b_code': '1114017100',\n",
       "    'h_code': '1114068000',\n",
       "    'main_address_no': '441',\n",
       "    'mountain_yn': 'N',\n",
       "    'region_1depth_name': '서울',\n",
       "    'region_2depth_name': '중구',\n",
       "    'region_3depth_h_name': '중림동',\n",
       "    'region_3depth_name': '중림동',\n",
       "    'sub_address_no': '',\n",
       "    'x': '126.967109652664',\n",
       "    'y': '37.5598688323642'},\n",
       "   'address_name': '서울 중구 청파로 463',\n",
       "   'address_type': 'ROAD_ADDR',\n",
       "   'road_address': {'address_name': '서울 중구 청파로 463',\n",
       "    'building_name': '한국경제신문사',\n",
       "    'main_building_no': '463',\n",
       "    'region_1depth_name': '서울',\n",
       "    'region_2depth_name': '중구',\n",
       "    'region_3depth_name': '중림동',\n",
       "    'road_name': '청파로',\n",
       "    'sub_building_no': '',\n",
       "    'underground_yn': 'N',\n",
       "    'x': '126.967109652664',\n",
       "    'y': '37.5598688323642',\n",
       "    'zone_no': '04505'},\n",
       "   'x': '126.967109652664',\n",
       "   'y': '37.5598688323642'}],\n",
       " 'meta': {'is_end': True, 'pageable_count': 1, 'total_count': 1}}"
      ]
     },
     "metadata": {},
     "execution_count": 33
    }
   ],
   "source": [
    "#\"Authorization: KakaoAK {REST_API_KEY}\"\n",
    "result = requests.get(url, headers={\"Authorization\": f\"KakaoAK {kakao_key}\"}).json()\n",
    "result"
   ]
  },
  {
   "cell_type": "code",
   "execution_count": 43,
   "metadata": {},
   "outputs": [
    {
     "output_type": "execute_result",
     "data": {
      "text/plain": [
       "('126.967109652664', '37.5598688323642')"
      ]
     },
     "metadata": {},
     "execution_count": 43
    }
   ],
   "source": [
    "lng = result['documents'][0]['x']\n",
    "lat = result['documents'][0]['y']    # 위도 경도\n",
    "lng, lat"
   ]
  },
  {
   "cell_type": "code",
   "execution_count": 35,
   "metadata": {},
   "outputs": [],
   "source": [
    "# addr.csv로부터 주소 읽어서 위도 경도 정보 구한뒤 addr2.csv로 저장해라"
   ]
  },
  {
   "cell_type": "code",
   "execution_count": 44,
   "metadata": {},
   "outputs": [
    {
     "output_type": "execute_result",
     "data": {
      "text/plain": [
       "       건물명                        도로명주소\n",
       "0  한국경제신문사       서울특별시 중구 청파로 463 (중림동)\n",
       "1     서울시청      서울특별시 중구 덕수궁길 15 (서소문동)\n",
       "2      중구청       서울특별시 중구 창경궁로 17 (예관동)\n",
       "3     종로구청      서울특별시 종로구 종로1길 36 (수송동)\n",
       "4    서대문구청     서울특별시 서대문구 연희로 247 (연희동)\n",
       "5     용산구청  서울특별시 용산구 백범로79길 64 (청파동3가)"
      ],
      "text/html": "<div>\n<style scoped>\n    .dataframe tbody tr th:only-of-type {\n        vertical-align: middle;\n    }\n\n    .dataframe tbody tr th {\n        vertical-align: top;\n    }\n\n    .dataframe thead th {\n        text-align: right;\n    }\n</style>\n<table border=\"1\" class=\"dataframe\">\n  <thead>\n    <tr style=\"text-align: right;\">\n      <th></th>\n      <th>건물명</th>\n      <th>도로명주소</th>\n    </tr>\n  </thead>\n  <tbody>\n    <tr>\n      <th>0</th>\n      <td>한국경제신문사</td>\n      <td>서울특별시 중구 청파로 463 (중림동)</td>\n    </tr>\n    <tr>\n      <th>1</th>\n      <td>서울시청</td>\n      <td>서울특별시 중구 덕수궁길 15 (서소문동)</td>\n    </tr>\n    <tr>\n      <th>2</th>\n      <td>중구청</td>\n      <td>서울특별시 중구 창경궁로 17 (예관동)</td>\n    </tr>\n    <tr>\n      <th>3</th>\n      <td>종로구청</td>\n      <td>서울특별시 종로구 종로1길 36 (수송동)</td>\n    </tr>\n    <tr>\n      <th>4</th>\n      <td>서대문구청</td>\n      <td>서울특별시 서대문구 연희로 247 (연희동)</td>\n    </tr>\n    <tr>\n      <th>5</th>\n      <td>용산구청</td>\n      <td>서울특별시 용산구 백범로79길 64 (청파동3가)</td>\n    </tr>\n  </tbody>\n</table>\n</div>"
     },
     "metadata": {},
     "execution_count": 44
    }
   ],
   "source": [
    "df = pd.read_csv('addr.csv')\n",
    "df"
   ]
  },
  {
   "cell_type": "code",
   "execution_count": 47,
   "metadata": {},
   "outputs": [],
   "source": [
    "lng_list, lat_list = [], []\n",
    "for i in df.index:\n",
    "    url = f\"{local_url}?query={quote(df['도로명주소'][i])}\"\n",
    "    result = requests.get(url, headers={\"Authorization\": f\"KakaoAK {kakao_key}\"}).json()\n",
    "    lng = result['documents'][0]['x']\n",
    "    lat = result['documents'][0]['y']  \n",
    "    lng_list.append(lng)\n",
    "    lat_list.append(lat)"
   ]
  },
  {
   "cell_type": "code",
   "execution_count": 48,
   "metadata": {},
   "outputs": [
    {
     "output_type": "execute_result",
     "data": {
      "text/plain": [
       "       건물명                        도로명주소                위도                경도\n",
       "0  한국경제신문사       서울특별시 중구 청파로 463 (중림동)  37.5598688323642  126.967109652664\n",
       "1     서울시청      서울특별시 중구 덕수궁길 15 (서소문동)  37.5645541852439  126.975613605737\n",
       "2      중구청       서울특별시 중구 창경궁로 17 (예관동)  37.5641201543296  126.998009728978\n",
       "3     종로구청      서울특별시 종로구 종로1길 36 (수송동)  37.5735051436739  126.978988255925\n",
       "4    서대문구청     서울특별시 서대문구 연희로 247 (연희동)  37.5791549275777  126.935815915686\n",
       "5     용산구청  서울특별시 용산구 백범로79길 64 (청파동3가)  37.5416021897984   126.96497660839"
      ],
      "text/html": "<div>\n<style scoped>\n    .dataframe tbody tr th:only-of-type {\n        vertical-align: middle;\n    }\n\n    .dataframe tbody tr th {\n        vertical-align: top;\n    }\n\n    .dataframe thead th {\n        text-align: right;\n    }\n</style>\n<table border=\"1\" class=\"dataframe\">\n  <thead>\n    <tr style=\"text-align: right;\">\n      <th></th>\n      <th>건물명</th>\n      <th>도로명주소</th>\n      <th>위도</th>\n      <th>경도</th>\n    </tr>\n  </thead>\n  <tbody>\n    <tr>\n      <th>0</th>\n      <td>한국경제신문사</td>\n      <td>서울특별시 중구 청파로 463 (중림동)</td>\n      <td>37.5598688323642</td>\n      <td>126.967109652664</td>\n    </tr>\n    <tr>\n      <th>1</th>\n      <td>서울시청</td>\n      <td>서울특별시 중구 덕수궁길 15 (서소문동)</td>\n      <td>37.5645541852439</td>\n      <td>126.975613605737</td>\n    </tr>\n    <tr>\n      <th>2</th>\n      <td>중구청</td>\n      <td>서울특별시 중구 창경궁로 17 (예관동)</td>\n      <td>37.5641201543296</td>\n      <td>126.998009728978</td>\n    </tr>\n    <tr>\n      <th>3</th>\n      <td>종로구청</td>\n      <td>서울특별시 종로구 종로1길 36 (수송동)</td>\n      <td>37.5735051436739</td>\n      <td>126.978988255925</td>\n    </tr>\n    <tr>\n      <th>4</th>\n      <td>서대문구청</td>\n      <td>서울특별시 서대문구 연희로 247 (연희동)</td>\n      <td>37.5791549275777</td>\n      <td>126.935815915686</td>\n    </tr>\n    <tr>\n      <th>5</th>\n      <td>용산구청</td>\n      <td>서울특별시 용산구 백범로79길 64 (청파동3가)</td>\n      <td>37.5416021897984</td>\n      <td>126.96497660839</td>\n    </tr>\n  </tbody>\n</table>\n</div>"
     },
     "metadata": {},
     "execution_count": 48
    }
   ],
   "source": [
    "df['위도'] =lat_list\n",
    "df['경도'] =lng_list\n",
    "df"
   ]
  },
  {
   "cell_type": "code",
   "execution_count": 49,
   "metadata": {},
   "outputs": [],
   "source": [
    "df.to_csv('addr2.csv', index=False, sep=',', encoding='utf8')"
   ]
  },
  {
   "cell_type": "code",
   "execution_count": null,
   "metadata": {},
   "outputs": [],
   "source": []
  }
 ]
}